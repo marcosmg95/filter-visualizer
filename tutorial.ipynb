{
 "cells": [
  {
   "cell_type": "markdown",
   "metadata": {},
   "source": [
    "# Filter visualizer tutorial\n",
    "#### The filter visualizer offers a powerful tool for observing and debugging neural network weights. The PCA representation is available for each neuron in the chosen convolutional neural network layer (if the dimensionality of the weight is 3 or less then the PCA is not done) and you can explore both the Fourier transform and the 3D representation of each neuron channel\n",
    "\n",
    "We will see how to use the filter visualizer in this tutorial. Lets first import some libraries"
   ]
  },
  {
   "cell_type": "code",
   "execution_count": 1,
   "metadata": {},
   "outputs": [
    {
     "name": "stderr",
     "output_type": "stream",
     "text": [
      "Using cache found in C:\\Users\\Marcos/.cache\\torch\\hub\\pytorch_vision_v0.10.0\n"
     ]
    }
   ],
   "source": [
    "import numpy as np\n",
    "import threading\n",
    "from utils import plot_in_3D\n",
    "from IPython.display import IFrame, display\n",
    "from filter_visualizer import app\n",
    "from PIL import Image\n",
    "import torch\n",
    "import torch.nn.functional as F"
   ]
  },
  {
   "cell_type": "markdown",
   "metadata": {},
   "source": [
    "Next, lets launch our filter visualizer application. This application has been developed using Flask, a Python web development framework. We will run it in a thread in order to be able to use it within a notebook"
   ]
  },
  {
   "cell_type": "code",
   "execution_count": 2,
   "metadata": {},
   "outputs": [
    {
     "name": "stdout",
     "output_type": "stream",
     "text": [
      " * Serving Flask app 'filter_visualizer' (lazy loading)\n",
      " * Environment: production\n",
      "\u001b[31m   WARNING: This is a development server. Do not use it in a production deployment.\u001b[0m\n",
      "\u001b[2m   Use a production WSGI server instead.\u001b[0m\n",
      " * Debug mode: off\n"
     ]
    },
    {
     "name": "stderr",
     "output_type": "stream",
     "text": [
      " * Running on http://127.0.0.1:5000/ (Press CTRL+C to quit)\n"
     ]
    }
   ],
   "source": [
    "def run():\n",
    "    app.run(port=5000, use_reloader=False)\n",
    "\n",
    "threading.Thread(target=run).start()"
   ]
  },
  {
   "cell_type": "markdown",
   "metadata": {},
   "source": [
    "Now lets open the web app, if you use the default settings you should go to your web browser and open the following webpage http://localhost:5000/. Hopefully you are able to see the filter visualizer now. As you can see, the following features are available:\n",
    "* Layer dropdown to select the convolutional layer of the chosen neural network.\n",
    "* Weight dropdown for choosing specific neurons within a layer.\n",
    "* Feature map range buttons that allow the visualization of specific channels within a neuron.\n",
    "* 2D neuron visualization, using PCA for neurons that exceed three channels, in order to visualize the neuron in RGB.\n",
    "* Fourier space visualization for each neuron channel.\n",
    "* 3D plotting of individual channels within the selected neuron.\n",
    "\n",
    "Notice that indexes start with 0"
   ]
  },
  {
   "cell_type": "code",
   "execution_count": 3,
   "metadata": {},
   "outputs": [
    {
     "data": {
      "text/html": [
       "\n",
       "        <iframe\n",
       "            width=\"1800\"\n",
       "            height=\"800\"\n",
       "            src=\"http://localhost:5000/\"\n",
       "            frameborder=\"0\"\n",
       "            allowfullscreen\n",
       "        ></iframe>\n",
       "        "
      ],
      "text/plain": [
       "<IPython.lib.display.IFrame at 0x183799054f0>"
      ]
     },
     "execution_count": 3,
     "metadata": {},
     "output_type": "execute_result"
    }
   ],
   "source": [
    "IFrame('http://localhost:5000/', width=1800, height=800)"
   ]
  },
  {
   "cell_type": "markdown",
   "metadata": {},
   "source": [
    "\n",
    "But what can we do with the filter visualizer? Well... lets take for instance the first neuron of the first convolutional layer"
   ]
  },
  {
   "cell_type": "code",
   "execution_count": 4,
   "metadata": {},
   "outputs": [
    {
     "name": "stderr",
     "output_type": "stream",
     "text": [
      "Using cache found in C:\\Users\\Marcos/.cache\\torch\\hub\\pytorch_vision_v0.10.0\n"
     ]
    }
   ],
   "source": [
    "model = torch.hub.load('pytorch/vision:v0.10.0', 'alexnet', weights='AlexNet_Weights.DEFAULT')\n",
    "model.eval()\n",
    "\n",
    "conv_layer = model.features[0]\n",
    "with torch.no_grad():\n",
    "    weight = conv_layer.weight[0, :, :, :].cpu().numpy().transpose(1, 2, 0)"
   ]
  },
  {
   "cell_type": "markdown",
   "metadata": {},
   "source": [
    "Lets display the weight as it is done in the filter visualizer. Observe that there is difference between the left and right sides of the neuron"
   ]
  },
  {
   "cell_type": "code",
   "execution_count": 5,
   "metadata": {},
   "outputs": [
    {
     "data": {
      "image/png": "[encoded data removed]",
      "text/plain": [
       "<PIL.Image.Image image mode=RGB size=256x256>"
      ]
     },
     "metadata": {},
     "output_type": "display_data"
    }
   ],
   "source": [
    "weight_pil = 255.0 * (weight - np.min(weight)) / (np.max(weight) - np.min(weight))\n",
    "weight_pil = Image.fromarray(np.uint8((weight_pil)))\n",
    "weight_pil = weight_pil.resize((256, 256), Image.BILINEAR)\n",
    "display(weight_pil)"
   ]
  },
  {
   "cell_type": "markdown",
   "metadata": {},
   "source": [
    "We will also generate a stimulus to better understand how the neuron responds to specific image inputs"
   ]
  },
  {
   "cell_type": "code",
   "execution_count": 6,
   "metadata": {},
   "outputs": [
    {
     "data": {
      "image/png": "[encoded data removed]",
      "text/plain": [
       "<PIL.Image.Image image mode=RGB size=256x256>"
      ]
     },
     "metadata": {},
     "output_type": "display_data"
    }
   ],
   "source": [
    "color_1 = weight_pil.getpixel((0, 0))\n",
    "color_2 = weight_pil.getpixel((255, 255))\n",
    "\n",
    "color_1_r, color_1_g, color_1_b = color_1[0], color_1[1], color_1[2]\n",
    "color_2_r, color_2_g, color_2_b = color_2[0], color_2[1], color_2[2]\n",
    "\n",
    "width, height = 256, 256\n",
    "\n",
    "image_np = np.zeros((height, width, 3), dtype=np.uint8)\n",
    "\n",
    "mask = np.arange(width) + np.arange(height)[:, np.newaxis] >= width\n",
    "\n",
    "image_np[:, :, 0] = np.where(mask, color_2_r, color_1_r)   # Red channel\n",
    "image_np[:, :, 1] = np.where(mask, color_2_g, color_1_g)   # Green channel\n",
    "image_np[:, :, 2] = np.where(mask, color_2_b, color_1_b)   # Blue channel\n",
    "\n",
    "img = Image.fromarray(image_np)\n",
    "\n",
    "display(img)"
   ]
  },
  {
   "cell_type": "markdown",
   "metadata": {},
   "source": [
    "Now, lets convolve our stimulus with this neuron"
   ]
  },
  {
   "cell_type": "code",
   "execution_count": 7,
   "metadata": {},
   "outputs": [
    {
     "data": {
      "image/png": "[encoded data removed]",
      "text/plain": [
       "<PIL.Image.Image image mode=L size=246x246>"
      ]
     },
     "metadata": {},
     "output_type": "display_data"
    },
    {
     "name": "stderr",
     "output_type": "stream",
     "text": [
      "127.0.0.1 - - [10/Sep/2023 21:50:41] \"GET / HTTP/1.1\" 200 -\n",
      "127.0.0.1 - - [10/Sep/2023 21:50:41] \"GET /static/css/styles.css HTTP/1.1\" 304 -\n",
      "127.0.0.1 - - [10/Sep/2023 21:50:41] \"GET /static/js/scripts.js HTTP/1.1\" 304 -\n",
      "127.0.0.1 - - [10/Sep/2023 21:50:41] \"GET /num_channels?layer_index=0 HTTP/1.1\" 200 -\n",
      "127.0.0.1 - - [10/Sep/2023 21:50:42] \"GET /layer_indexes HTTP/1.1\" 200 -\n",
      "127.0.0.1 - - [10/Sep/2023 21:50:42] \"GET /weights?index=0&layer_index=0&fil_num_start=0 HTTP/1.1\" 200 -\n",
      "127.0.0.1 - - [10/Sep/2023 21:50:42] \"GET /weights_gray?index=0&layer_index=0&t=1694375442167 HTTP/1.1\" 200 -\n",
      "127.0.0.1 - - [10/Sep/2023 21:50:42] \"GET /weights_fft?index=0&layer_index=0 HTTP/1.1\" 200 -\n"
     ]
    }
   ],
   "source": [
    "image_tensor = torch.tensor(image_np).unsqueeze(0).permute(0, 3, 1, 2).float()\n",
    "weight_tensor = torch.tensor(weight).unsqueeze(0).permute(0, 3, 1, 2).float()\n",
    "\n",
    "convolved_tensor = F.conv2d(image_tensor, weight_tensor)\n",
    "\n",
    "convolved_image_np = convolved_tensor.squeeze(0).permute(1, 2, 0).numpy()\n",
    "\n",
    "convolved_image_np = (convolved_image_np - convolved_image_np.min()) / (convolved_image_np.max() - convolved_image_np.min()) * 255\n",
    "convolved_image_np = convolved_image_np.astype(np.uint8)\n",
    "\n",
    "convolved_image_np = np.squeeze(convolved_image_np)\n",
    "\n",
    "img = Image.fromarray(convolved_image_np)\n",
    "display(img)"
   ]
  },
  {
   "cell_type": "markdown",
   "metadata": {},
   "source": [
    "From our analysis, it is evident that we are able to use this neuron to identify transitions between red and green colors within an image"
   ]
  },
  {
   "cell_type": "markdown",
   "metadata": {},
   "source": []
  }
 ],
 "metadata": {
  "kernelspec": {
   "display_name": "Python 3",
   "language": "python",
   "name": "python3"
  },
  "language_info": {
   "codemirror_mode": {
    "name": "ipython",
    "version": 3
   },
   "file_extension": ".py",
   "mimetype": "text/x-python",
   "name": "python",
   "nbconvert_exporter": "python",
   "pygments_lexer": "ipython3",
   "version": "3.9.6"
  },
  "orig_nbformat": 4
 },
 "nbformat": 4,
 "nbformat_minor": 2
}
